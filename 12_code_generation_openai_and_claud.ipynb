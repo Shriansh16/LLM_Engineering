{
  "nbformat": 4,
  "nbformat_minor": 0,
  "metadata": {
    "colab": {
      "provenance": [],
      "gpuType": "T4",
      "authorship_tag": "ABX9TyNnZOlrm0IrT5tl+q4WADG+",
      "include_colab_link": true
    },
    "kernelspec": {
      "name": "python3",
      "display_name": "Python 3"
    },
    "language_info": {
      "name": "python"
    },
    "accelerator": "GPU"
  },
  "cells": [
    {
      "cell_type": "markdown",
      "metadata": {
        "id": "view-in-github",
        "colab_type": "text"
      },
      "source": [
        "<a href=\"https://colab.research.google.com/github/Shriansh16/LLM_Engineering/blob/main/12_code_generation_openai_and_claud.ipynb\" target=\"_parent\"><img src=\"https://colab.research.google.com/assets/colab-badge.svg\" alt=\"Open In Colab\"/></a>"
      ]
    },
    {
      "cell_type": "code",
      "source": [
        "import os\n",
        "import io\n",
        "import sys\n",
        "from openai import OpenAI\n",
        "import google.generativeai\n",
        "from IPython.display import Markdown, display, update_display\n",
        "import gradio as gr\n",
        "import subprocess"
      ],
      "metadata": {
        "id": "kR4hvtZR7spC"
      },
      "execution_count": 4,
      "outputs": []
    },
    {
      "cell_type": "code",
      "source": [
        "os.environ['OPENAI_API_KEY'] = os.getenv('OPENAI_API_KEY', '')"
      ],
      "metadata": {
        "id": "nRxGvTDn8D5i"
      },
      "execution_count": 5,
      "outputs": []
    },
    {
      "cell_type": "code",
      "source": [
        "openai = OpenAI()\n",
        "OPENAI_MODEL = \"gpt-3.5-turbo\"\n",
        "claude = anthropic.Anthropic()\n",
        "CLAUDE_MODEL = \"claude-3-5-sonnet-20240620\""
      ],
      "metadata": {
        "id": "h3L2g9RV8ZbG"
      },
      "execution_count": 6,
      "outputs": []
    },
    {
      "cell_type": "code",
      "source": [
        "system_message = \"You are an assistant that reimplements Python code in high performance C++ for an Dell. \"\n",
        "system_message += \"Respond only with C++ code; use comments sparingly and do not provide any explanation other than occasional comments. \"\n",
        "system_message += \"The C++ response needs to produce an identical output in the fastest possible time.\""
      ],
      "metadata": {
        "id": "5De2qPZw8jRW"
      },
      "execution_count": 7,
      "outputs": []
    },
    {
      "cell_type": "code",
      "source": [
        "def user_prompt_for(python):\n",
        "    user_prompt = \"Rewrite this Python code in C++ with the fastest possible implementation that produces identical output in the least time. \"\n",
        "    user_prompt += \"Respond only with C++ code; do not explain your work other than a few comments. \"\n",
        "    user_prompt += \"Pay attention to number types to ensure no int overflows. Remember to #include all necessary C++ packages such as iomanip.\\n\\n\"\n",
        "    user_prompt += python\n",
        "    return user_prompt"
      ],
      "metadata": {
        "id": "3NUR1gIl8yP3"
      },
      "execution_count": 8,
      "outputs": []
    },
    {
      "cell_type": "code",
      "source": [
        "def messages_for(python):\n",
        "    return [\n",
        "        {\"role\": \"system\", \"content\": system_message},\n",
        "        {\"role\": \"user\", \"content\": user_prompt_for(python)}\n",
        "    ]"
      ],
      "metadata": {
        "id": "aHak9_xw84en"
      },
      "execution_count": 9,
      "outputs": []
    },
    {
      "cell_type": "code",
      "source": [
        "# write to a file called optimized.cpp\n",
        "\n",
        "def write_output(cpp):\n",
        "    code = cpp.replace(\"```cpp\",\"\").replace(\"```\",\"\")\n",
        "    with open(\"optimized.cpp\", \"w\") as f:\n",
        "        f.write(code)"
      ],
      "metadata": {
        "id": "P8LnLH9k88uI"
      },
      "execution_count": 10,
      "outputs": []
    },
    {
      "cell_type": "code",
      "source": [
        "def optimize_gpt(python):\n",
        "    stream = openai.chat.completions.create(model=OPENAI_MODEL, messages=messages_for(python), stream=True)\n",
        "    reply = \"\"\n",
        "    for chunk in stream:\n",
        "        fragment = chunk.choices[0].delta.content or \"\"\n",
        "        reply += fragment\n",
        "        print(fragment, end='', flush=True)\n",
        "    write_output(reply)"
      ],
      "metadata": {
        "id": "ofcuYPCe9HMa"
      },
      "execution_count": 11,
      "outputs": []
    },
    {
      "cell_type": "code",
      "source": [
        "def stream_gpt(python):\n",
        "    stream = openai.chat.completions.create(model=OPENAI_MODEL, messages=messages_for(python), stream=True)\n",
        "    reply = \"\"\n",
        "    for chunk in stream:\n",
        "        fragment = chunk.choices[0].delta.content or \"\"\n",
        "        reply += fragment\n",
        "        yield reply.replace('```cpp\\n','').replace('```','')"
      ],
      "metadata": {
        "id": "CL-_l8oFG0HK"
      },
      "execution_count": 21,
      "outputs": []
    },
    {
      "cell_type": "code",
      "source": [
        "def stream_claude(python):\n",
        "    result = claude.messages.stream(\n",
        "        model=CLAUDE_MODEL,\n",
        "        max_tokens=2000,\n",
        "        system=system_message,\n",
        "        messages=[{\"role\": \"user\", \"content\": user_prompt_for(python)}],\n",
        "    )\n",
        "    reply = \"\"\n",
        "    with result as stream:\n",
        "        for text in stream.text_stream:\n",
        "            reply += text\n",
        "            yield reply.replace('```cpp\\n','').replace('```','')"
      ],
      "metadata": {
        "id": "slisuuFgKud7"
      },
      "execution_count": 23,
      "outputs": []
    },
    {
      "cell_type": "code",
      "source": [
        "pi = \"\"\"\n",
        "import time\n",
        "\n",
        "def calculate(iterations, param1, param2):\n",
        "    result = 1.0\n",
        "    for i in range(1, iterations+1):\n",
        "        j = i * param1 - param2\n",
        "        result -= (1/j)\n",
        "        j = i * param1 + param2\n",
        "        result += (1/j)\n",
        "    return result\n",
        "\n",
        "start_time = time.time()\n",
        "result = calculate(100_000_000, 4, 1) * 4\n",
        "end_time = time.time()\n",
        "\n",
        "print(f\"Result: {result:.12f}\")\n",
        "print(f\"Execution Time: {(end_time - start_time):.6f} seconds\")\n",
        "\"\"\""
      ],
      "metadata": {
        "id": "S0Jwc51t9VQc"
      },
      "execution_count": 12,
      "outputs": []
    },
    {
      "cell_type": "code",
      "source": [
        "exec(pi)"
      ],
      "metadata": {
        "colab": {
          "base_uri": "https://localhost:8080/"
        },
        "id": "IDVP7lTR9bBr",
        "outputId": "890187a4-effb-4b9d-b1d6-ae5703399377"
      },
      "execution_count": 13,
      "outputs": [
        {
          "output_type": "stream",
          "name": "stdout",
          "text": [
            "Result: 3.141592658589\n",
            "Execution Time: 31.683326 seconds\n"
          ]
        }
      ]
    },
    {
      "cell_type": "code",
      "source": [
        "optimize_gpt(pi)"
      ],
      "metadata": {
        "colab": {
          "base_uri": "https://localhost:8080/"
        },
        "id": "cR-8oMv39dDL",
        "outputId": "65f81167-d1fe-4f98-bd17-a11dd646d243"
      },
      "execution_count": 14,
      "outputs": [
        {
          "output_type": "stream",
          "name": "stdout",
          "text": [
            "```cpp\n",
            "#include <iostream>\n",
            "#include <chrono>\n",
            "#include <iomanip>\n",
            "\n",
            "double calculate(int iterations, int param1, int param2) {\n",
            "    double result = 1.0;\n",
            "    for (int i = 1; i <= iterations; ++i) {\n",
            "        double j1 = static_cast<double>(i * param1 - param2);\n",
            "        double j2 = static_cast<double>(i * param1 + param2);\n",
            "        result -= (1.0 / j1);\n",
            "        result += (1.0 / j2);\n",
            "    }\n",
            "    return result;\n",
            "}\n",
            "\n",
            "int main() {\n",
            "    auto start_time = std::chrono::high_resolution_clock::now();\n",
            "    double result = calculate(100000000, 4, 1) * 4;\n",
            "    auto end_time = std::chrono::high_resolution_clock::now();\n",
            "\n",
            "    std::cout << std::fixed;\n",
            "    std::cout << \"Result: \" << std::setprecision(12) << result << std::endl;\n",
            "    std::cout << \"Execution Time: \" << std::setprecision(6) << std::chrono::duration<double>(end_time - start_time).count() << \" seconds\" << std::endl;\n",
            "\n",
            "    return 0;\n",
            "}\n",
            "```  "
          ]
        }
      ]
    },
    {
      "cell_type": "code",
      "source": [
        "def optimize_claude(python):\n",
        "    result = claude.messages.stream(\n",
        "        model=CLAUDE_MODEL,\n",
        "        max_tokens=2000,\n",
        "        system=system_message,\n",
        "        messages=[{\"role\": \"user\", \"content\": user_prompt_for(python)}],\n",
        "    )\n",
        "    reply = \"\"\n",
        "    with result as stream:\n",
        "        for text in stream.text_stream:\n",
        "            reply += text\n",
        "            print(text, end=\"\", flush=True)\n",
        "    write_output(reply)"
      ],
      "metadata": {
        "id": "vBLcOVm197DP"
      },
      "execution_count": 16,
      "outputs": []
    },
    {
      "cell_type": "code",
      "source": [
        "def optimize(python, model):\n",
        "    if model==\"GPT\":\n",
        "        result = stream_gpt(python)\n",
        "    elif model==\"Claude\":\n",
        "        result = stream_claude(python)\n",
        "    else:\n",
        "        raise ValueError(\"Unknown model\")\n",
        "    for stream_so_far in result:\n",
        "        yield stream_so_far"
      ],
      "metadata": {
        "id": "-0r5PRIkGNaP"
      },
      "execution_count": 19,
      "outputs": []
    },
    {
      "cell_type": "code",
      "source": [
        "with gr.Blocks() as ui:\n",
        "    with gr.Row():\n",
        "        python = gr.Textbox(label=\"Python code:\", lines=10, value=pi)\n",
        "        cpp = gr.Textbox(label=\"C++ code:\", lines=10)\n",
        "    with gr.Row():\n",
        "        model = gr.Dropdown([\"GPT\", \"Claude\"], label=\"Select model\", value=\"GPT\")\n",
        "        convert = gr.Button(\"Convert code\")\n",
        "\n",
        "    convert.click(optimize, inputs=[python, model], outputs=[cpp])\n",
        "\n",
        "ui.launch(inbrowser=True)"
      ],
      "metadata": {
        "colab": {
          "base_uri": "https://localhost:8080/",
          "height": 646
        },
        "id": "qafI0baUF97d",
        "outputId": "0644dd10-3718-41aa-dc20-faff5cbf3ae8"
      },
      "execution_count": 22,
      "outputs": [
        {
          "output_type": "stream",
          "name": "stdout",
          "text": [
            "Setting queue=True in a Colab notebook requires sharing enabled. Setting `share=True` (you can turn this off by setting `share=False` in `launch()` explicitly).\n",
            "\n",
            "Colab notebook detected. To show errors in colab notebook, set debug=True in launch()\n",
            "* Running on public URL: https://52122c3ddc7b60ae18.gradio.live\n",
            "\n",
            "This share link expires in 72 hours. For free permanent hosting and GPU upgrades, run `gradio deploy` from the terminal in the working directory to deploy to Hugging Face Spaces (https://huggingface.co/spaces)\n"
          ]
        },
        {
          "output_type": "display_data",
          "data": {
            "text/plain": [
              "<IPython.core.display.HTML object>"
            ],
            "text/html": [
              "<div><iframe src=\"https://52122c3ddc7b60ae18.gradio.live\" width=\"100%\" height=\"500\" allow=\"autoplay; camera; microphone; clipboard-read; clipboard-write;\" frameborder=\"0\" allowfullscreen></iframe></div>"
            ]
          },
          "metadata": {}
        },
        {
          "output_type": "execute_result",
          "data": {
            "text/plain": []
          },
          "metadata": {},
          "execution_count": 22
        }
      ]
    },
    {
      "cell_type": "code",
      "source": [
        "#to check whether it is optimeize or not\n",
        "# Replace this with the right C++ compile + execute command for your platform\n",
        "!clang++ -O3 -std=c++17 -march=armv8.3-a -o optimized optimized.cpp\n",
        "!./optimized"
      ],
      "metadata": {
        "colab": {
          "base_uri": "https://localhost:8080/"
        },
        "id": "mPBmIDsmK7r6",
        "outputId": "68556fe3-4cb0-4dc1-ddb0-2bf7e80c790e"
      },
      "execution_count": 26,
      "outputs": [
        {
          "output_type": "stream",
          "name": "stdout",
          "text": [
            "\u001b[0;1;31merror: \u001b[0m\u001b[1munknown target CPU 'armv8.3-a'\u001b[0m\n",
            "\u001b[0;1;30mnote: \u001b[0mvalid target CPU values are: nocona, core2, penryn, bonnell, atom, silvermont,\n",
            "      slm, goldmont, goldmont-plus, tremont, nehalem, corei7, westmere, sandybridge, corei7-avx,\n",
            "      ivybridge, core-avx-i, haswell, core-avx2, broadwell, skylake, skylake-avx512, skx,\n",
            "      cascadelake, cooperlake, cannonlake, icelake-client, rocketlake, icelake-server, tigerlake,\n",
            "      sapphirerapids, alderlake, knl, knm, k8, athlon64, athlon-fx, opteron, k8-sse3, athlon64-sse3,\n",
            "      opteron-sse3, amdfam10, barcelona, btver1, btver2, bdver1, bdver2, bdver3, bdver4, znver1,\n",
            "      znver2, znver3, x86-64, x86-64-v2, x86-64-v3, x86-64-v4\u001b[0m\n",
            "/bin/bash: line 1: ./optimized: No such file or directory\n"
          ]
        }
      ]
    },
    {
      "cell_type": "markdown",
      "source": [
        "#Overall claud is better than gtp4o in code generation"
      ],
      "metadata": {
        "id": "x2eIXQloLk6F"
      }
    },
    {
      "cell_type": "code",
      "source": [],
      "metadata": {
        "id": "sBFByn-_LLK7"
      },
      "execution_count": null,
      "outputs": []
    }
  ]
}