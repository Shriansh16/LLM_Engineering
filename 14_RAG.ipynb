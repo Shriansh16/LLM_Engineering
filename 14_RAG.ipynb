{
  "nbformat": 4,
  "nbformat_minor": 0,
  "metadata": {
    "colab": {
      "provenance": [],
      "gpuType": "T4",
      "authorship_tag": "ABX9TyMRo51OaB+anbmw6qh+M59n",
      "include_colab_link": true
    },
    "kernelspec": {
      "name": "python3",
      "display_name": "Python 3"
    },
    "language_info": {
      "name": "python"
    },
    "accelerator": "GPU"
  },
  "cells": [
    {
      "cell_type": "markdown",
      "metadata": {
        "id": "view-in-github",
        "colab_type": "text"
      },
      "source": [
        "<a href=\"https://colab.research.google.com/github/Shriansh16/LLM_Engineering/blob/main/14_RAG.ipynb\" target=\"_parent\"><img src=\"https://colab.research.google.com/assets/colab-badge.svg\" alt=\"Open In Colab\"/></a>"
      ]
    },
    {
      "cell_type": "code",
      "execution_count": 11,
      "metadata": {
        "id": "qTWzI7h7WGf5"
      },
      "outputs": [],
      "source": [
        "import os\n",
        "import gradio as gr\n",
        "from langchain.document_loaders import PyPDFLoader"
      ]
    },
    {
      "cell_type": "code",
      "source": [
        "\n",
        "from langchain.document_loaders import DirectoryLoader, TextLoader\n",
        "from langchain.text_splitter import CharacterTextSplitter\n",
        "from langchain.schema import Document\n",
        "from langchain_openai import OpenAIEmbeddings, ChatOpenAI\n",
        "from langchain_chroma import Chroma\n",
        "from langchain.vectorstores import FAISS\n",
        "import numpy as np\n",
        "from langchain.memory import ConversationBufferMemory\n",
        "from langchain.chains import ConversationalRetrievalChain"
      ],
      "metadata": {
        "id": "zQQY09x-Wj8W"
      },
      "execution_count": 8,
      "outputs": []
    },
    {
      "cell_type": "code",
      "source": [
        "MODEL = \"gpt-3.5-turbo\"\n",
        "db_name = \"vector_db\""
      ],
      "metadata": {
        "id": "f1Gn9i3xXO4q"
      },
      "execution_count": 27,
      "outputs": []
    },
    {
      "cell_type": "code",
      "source": [
        "os.environ['OPENAI_API_KEY'] = os.getenv('OPENAI_API_KEY', '')"
      ],
      "metadata": {
        "id": "HCklDwkzXVI7"
      },
      "execution_count": 10,
      "outputs": []
    },
    {
      "cell_type": "code",
      "source": [
        "pdf_path='/content/ok'\n",
        "loader = DirectoryLoader(pdf_path, glob='*.pdf', loader_cls=PyPDFLoader)\n",
        "document = loader.load()"
      ],
      "metadata": {
        "id": "wq-en7BgXZ5c"
      },
      "execution_count": 15,
      "outputs": []
    },
    {
      "cell_type": "code",
      "source": [
        "text_splitter = CharacterTextSplitter(chunk_size=1000, chunk_overlap=200)\n",
        "chunks = text_splitter.split_documents(document)"
      ],
      "metadata": {
        "id": "rfGKFA0oYUrS"
      },
      "execution_count": 17,
      "outputs": []
    },
    {
      "cell_type": "code",
      "source": [
        "len(chunks)"
      ],
      "metadata": {
        "colab": {
          "base_uri": "https://localhost:8080/"
        },
        "id": "2sy-nJweYbxS",
        "outputId": "85980e7b-88a6-41a4-d13f-9394d277e70e"
      },
      "execution_count": 18,
      "outputs": [
        {
          "output_type": "execute_result",
          "data": {
            "text/plain": [
              "19"
            ]
          },
          "metadata": {},
          "execution_count": 18
        }
      ]
    },
    {
      "cell_type": "code",
      "source": [
        "embeddings = OpenAIEmbeddings()"
      ],
      "metadata": {
        "id": "wf0HGTbLYzZs"
      },
      "execution_count": 20,
      "outputs": []
    },
    {
      "cell_type": "code",
      "source": [
        "vectorstore = Chroma.from_documents(documents=chunks, embedding=embeddings, persist_directory=db_name)\n",
        "print(f\"Vectorstore created with {vectorstore._collection.count()} documents\")"
      ],
      "metadata": {
        "colab": {
          "base_uri": "https://localhost:8080/"
        },
        "id": "7QP2xeBpYhdT",
        "outputId": "92586a92-0a89-482c-aa37-32b67779ae9f"
      },
      "execution_count": 21,
      "outputs": [
        {
          "output_type": "stream",
          "name": "stdout",
          "text": [
            "Vectorstore created with 19 documents\n"
          ]
        }
      ]
    },
    {
      "cell_type": "markdown",
      "source": [
        "#Time to use LangChain to bring it all together"
      ],
      "metadata": {
        "id": "UN2K0MjoY-tj"
      }
    },
    {
      "cell_type": "code",
      "source": [
        "# create a new Chat with OpenAI\n",
        "llm = ChatOpenAI(temperature=0.7, model_name=MODEL)\n",
        "\n",
        "# set up the conversation memory for the chat\n",
        "memory = ConversationBufferMemory(memory_key='chat_history', return_messages=True)\n",
        "\n",
        "# the retriever is an abstraction over the VectorStore that will be used during RAG\n",
        "retriever = vectorstore.as_retriever()\n",
        "\n",
        "# putting it together: set up the conversation chain with the GPT 3.5 LLM, the vector store and memory\n",
        "conversation_chain = ConversationalRetrievalChain.from_llm(llm=llm, retriever=retriever, memory=memory)"
      ],
      "metadata": {
        "colab": {
          "base_uri": "https://localhost:8080/"
        },
        "id": "Xr6UWMqtYwr0",
        "outputId": "2fdaf484-8096-486f-c1b4-65c8c10414f7"
      },
      "execution_count": 22,
      "outputs": [
        {
          "output_type": "stream",
          "name": "stderr",
          "text": [
            "<ipython-input-22-51939673df05>:5: LangChainDeprecationWarning: Please see the migration guide at: https://python.langchain.com/docs/versions/migrating_memory/\n",
            "  memory = ConversationBufferMemory(memory_key='chat_history', return_messages=True)\n"
          ]
        }
      ]
    },
    {
      "cell_type": "code",
      "source": [
        "query = \"what si smartcookie\"\n",
        "result = conversation_chain.invoke({\"question\":query})\n",
        "print(result[\"answer\"])"
      ],
      "metadata": {
        "colab": {
          "base_uri": "https://localhost:8080/"
        },
        "id": "v6lAYnFFZDS3",
        "outputId": "e4739916-1ca2-4677-a915-ee64f0d3c8c6"
      },
      "execution_count": 24,
      "outputs": [
        {
          "output_type": "stream",
          "name": "stdout",
          "text": [
            "Smart Cookie is a teacher-student reward program designed to foster a fun, interactive, and rewarding environment for both teachers and students. The program allows teachers to recognize and reward students for their achievements in various activities, such as sports, drawing, and academic tests. It aims to make the educational process more engaging and motivating by providing real-time rewards that acknowledge students' efforts and accomplishments. It was founded by Avinash Kulkarni.\n"
          ]
        }
      ]
    },
    {
      "cell_type": "markdown",
      "source": [
        "###Now we will bring this up in Gradio using the Chat interface -"
      ],
      "metadata": {
        "id": "SmnvHWvSZau-"
      }
    },
    {
      "cell_type": "code",
      "source": [
        "# Wrapping that in a function\n",
        "\n",
        "def chat(message, history):\n",
        "    result = conversation_chain.invoke({\"question\": message})\n",
        "    return result[\"answer\"]"
      ],
      "metadata": {
        "id": "2Bqj8cg0ZGtH"
      },
      "execution_count": 25,
      "outputs": []
    },
    {
      "cell_type": "code",
      "source": [
        "view = gr.ChatInterface(chat).launch()"
      ],
      "metadata": {
        "colab": {
          "base_uri": "https://localhost:8080/",
          "height": 680
        },
        "id": "ibnGeYDGZddq",
        "outputId": "56712c46-e96d-4ef9-deda-4cd6bd765c17"
      },
      "execution_count": 26,
      "outputs": [
        {
          "output_type": "stream",
          "name": "stderr",
          "text": [
            "/usr/local/lib/python3.10/dist-packages/gradio/components/chatbot.py:228: UserWarning: The 'tuples' format for chatbot messages is deprecated and will be removed in a future version of Gradio. Please set type='messages' instead, which uses openai-style 'role' and 'content' keys.\n",
            "  warnings.warn(\n"
          ]
        },
        {
          "output_type": "stream",
          "name": "stdout",
          "text": [
            "Setting queue=True in a Colab notebook requires sharing enabled. Setting `share=True` (you can turn this off by setting `share=False` in `launch()` explicitly).\n",
            "\n",
            "Colab notebook detected. To show errors in colab notebook, set debug=True in launch()\n",
            "* Running on public URL: https://75778230e9fc56775f.gradio.live\n",
            "\n",
            "This share link expires in 72 hours. For free permanent hosting and GPU upgrades, run `gradio deploy` from the terminal in the working directory to deploy to Hugging Face Spaces (https://huggingface.co/spaces)\n"
          ]
        },
        {
          "output_type": "display_data",
          "data": {
            "text/plain": [
              "<IPython.core.display.HTML object>"
            ],
            "text/html": [
              "<div><iframe src=\"https://75778230e9fc56775f.gradio.live\" width=\"100%\" height=\"500\" allow=\"autoplay; camera; microphone; clipboard-read; clipboard-write;\" frameborder=\"0\" allowfullscreen></iframe></div>"
            ]
          },
          "metadata": {}
        }
      ]
    },
    {
      "cell_type": "code",
      "source": [],
      "metadata": {
        "id": "tw7NO_kSZgbq"
      },
      "execution_count": null,
      "outputs": []
    },
    {
      "cell_type": "markdown",
      "source": [
        "###BEHIND THE SCENE"
      ],
      "metadata": {
        "id": "aXlED8L6ff_U"
      }
    },
    {
      "cell_type": "code",
      "source": [
        "# Let's investigate what gets sent behind the scenes\n",
        "\n",
        "from langchain_core.callbacks import StdOutCallbackHandler\n",
        "\n",
        "llm = ChatOpenAI(temperature=0.7, model_name=MODEL)\n",
        "\n",
        "memory = ConversationBufferMemory(memory_key='chat_history', return_messages=True)\n",
        "\n",
        "retriever = vectorstore.as_retriever()\n",
        "\n",
        "conversation_chain = ConversationalRetrievalChain.from_llm(llm=llm, retriever=retriever, memory=memory, callbacks=[StdOutCallbackHandler()])\n",
        "\n",
        "query = \"Who received the prestigious IIOTY award in 2023?\"\n",
        "result = conversation_chain.invoke({\"question\": query})\n",
        "answer = result[\"answer\"]\n",
        "print(\"\\nAnswer:\", answer)"
      ],
      "metadata": {
        "colab": {
          "base_uri": "https://localhost:8080/"
        },
        "id": "kQoTGuHGfjDk",
        "outputId": "bacdbe03-e8a9-4d7f-b20e-13126aee5823"
      },
      "execution_count": 28,
      "outputs": [
        {
          "output_type": "stream",
          "name": "stdout",
          "text": [
            "\n",
            "\n",
            "\u001b[1m> Entering new ConversationalRetrievalChain chain...\u001b[0m\n",
            "\n",
            "\n",
            "\u001b[1m> Entering new StuffDocumentsChain chain...\u001b[0m\n",
            "\n",
            "\n",
            "\u001b[1m> Entering new LLMChain chain...\u001b[0m\n",
            "Prompt after formatting:\n",
            "\u001b[32;1m\u001b[1;3mSystem: Use the following pieces of context to answer the user's question. \n",
            "If you don't know the answer, just say that you don't know, don't try to make up an answer.\n",
            "----------------\n",
            "1. Recognition for Achievements:  \n",
            "o Real-Time Rewards: Students receive rewards instantly for their \n",
            "accomplishments, reinforcing positive behavior and achievements.  \n",
            "o Mutual Recognition: Teachers and students can recognize and reward each \n",
            "other's contributions, fostering a positive environment.  \n",
            "2. Extension Possibilities:  \n",
            "o The system can be adapted for other settings, such as player -coach \n",
            "relationships in sports or employee -manager dynamics in workplaces, making \n",
            "it versatile.  \n",
            "3. Addressing Lack of Appreciation:  \n",
            "o Often, exceptional performances by students and teachers go unnoticed. \n",
            "SmartCookie aims to address this by ensuring timely recognition to prevent \n",
            "discouragement.  \n",
            "Entitie s in the System  \n",
            "The SmartCookie program involves six key entities:  \n",
            "1. Cookie Admin: Manages the overall system.  \n",
            "2. School Admin: Distributes points within the school and manages data.  \n",
            "3. Teacher: Awards points to students and receives recognition for their efforts.  \n",
            "4. Student: Earns points for various achievements.  \n",
            "5. Parent: Can reward their children with points.  \n",
            "6. Sponsor: Provides additional rewards and recognition opportunities.  \n",
            "Point System  \n",
            "SmartCookie uses a variety of point types, each serving a specific purpose:  \n",
            "1. Blue Points: \"ThankQ\" points for special efforts in mentoring and motivation.  \n",
            "2. Green Points: \"Reward Points\" given by teachers for academic performance.  \n",
            "3. Brown Points: Referral or sponsor points.  \n",
            "4. Purple Points: Points used by parents to reward their children.  \n",
            "5. Parent -Teacher Blue Points: Parents can thank teachers with these points.  \n",
            "6. Water Points: Points that can be purchased for additional rewards.  \n",
            "Point Distribution and Flow  \n",
            "1. Rule Engine: The school or college admin sets rules governing the distribution of \n",
            "point s. \n",
            "2. Distribution Process:  \n",
            "o Cookie Admin distributes points to Group Admins.  \n",
            "o Group Admins allocate points to School Admins.  \n",
            "o School Admins distribute Green and Blue Points to teachers and students, \n",
            "manage data, and upload school information to the system.  \n",
            "o Memb ers can request additional points from friends if they need more.  \n",
            "Redeeming Points  \n",
            "Points can be redeemed by students and teachers within a year for various rewards:\n",
            "\n",
            "1. Coupons and Discounts: Points can be exchanged for products, discounts, or services \n",
            "at par tner establishments like cafes, movie theaters, and bookshops.  \n",
            "2. Soft Rewards: Points can also be used to earn trophies, medals, crowns, or stars, \n",
            "which can be added to resumes as proof of achievements.  \n",
            "Self-Motivation and Social Media Integration  \n",
            "1. Self-Motiv ation: Active participation on social media platforms can earn reward \n",
            "points, which are automatically credited to the member's account.  \n",
            "2. Social Media Integration: Generated coupons can be easily shared on social media, \n",
            "making the rewards more accessible and  promoting engagement.  \n",
            "Accessibility  \n",
            " Website and App: SmartCookie  is available through its website and Android apps. \n",
            "Separate apps are available for different user roles —teachers, students, parents, and \n",
            "sponsors —ensuring a user -friendly experience tailored to each group's needs.  \n",
            "This system is designed to make the educa tional process more engaging, motivating, and \n",
            "rewarding, ensuring that every effort by students and teachers is recognized and appreciated.  \n",
            " \n",
            " \n",
            "Where is the office of SmartCookie / Location of office  \n",
            "Where is the SmartCookie office located?  \n",
            "Contact Details and Address:  \n",
            "India  Address and India contact details  \n",
            "Address: 55 Anmol Building, Behind Krishna Hospital, Prashant Society, \n",
            "Kothrud, Pune, Maharashtra 411038  \n",
            "Helpline  number : +91 -7219193815  \n",
            "Email for help: help@s martcookie.in  \n",
            "LinkedIn: https://www.linkedin.com/in/smart -cookie -inn/  \n",
            "US Address and US contact details : \n",
            "Email: recruitment@smartrewardsinc .com  \n",
            "Call: +1 -973-568-0605  \n",
            "US Office Location: 297 -Walnut Street, Livingston, NJ 07039  \n",
            " \n",
            " \n",
            " \n",
            "SmartCookie CEO Information:\n",
            "\n",
            "o Redeem points for free products or discounts at registered cafes, eating joints, \n",
            "movie theaters, beauty parlors, book shops, and sports equipment shops.  \n",
            "2. Soft Rewards:  \n",
            "o Earn trophies, medals, crowns, or stars, which can be included in resumes as \n",
            "recognition of achievements.  \n",
            "All redeemed points are recorded in the system and can be instantly produced using the \n",
            "member ID.  \n",
            "Self-Motivation and Social Media Integration  \n",
            "1. Self-Motivation:  \n",
            "o Active members on social media platforms (Facebook, WhatsApp, Amazon, \n",
            "Twitter, LinkedIn, Quora) can earn reward points by logging in. These points \n",
            "are automatically credited to their accounts.  \n",
            "2. Social Media Integration:  \n",
            "o Generated coupons can be directly posted on social media platforms for easy \n",
            "access.  \n",
            "Accessibility  \n",
            " Website and App:  \n",
            "o Smart Cookie is accessible through its website and Android applications.  \n",
            "o Separate apps are available for teachers, students, parents, and sponsors.  \n",
            "o The platform is designed to be user -friendly for daily use.  \n",
            " \n",
            " \n",
            "How Smartcookie works?/  How system works?/ Explain me the overall working smartcookie  \n",
            "SmartCookie is a comprehensive teacher -student reward program designed to enhance the \n",
            "educational experience by recognizing and rewarding achievements in real -time. Here's how \n",
            "the SmartCookie  system works:  \n",
            "Purpose and Goals  \n",
            " Purpose: The primary goal of SmartCookie is to create a fun, interactive, and \n",
            "rewarding environment within educational institutions. It focuses on recognizing and \n",
            "motivating both teachers and students for their contribution s and achievements.  \n",
            " Goals:  \n",
            "o Reward students for various achievements in activities like sports, drawing, \n",
            "and academic tests.  \n",
            "o Motivate both students and teachers by appreciating their efforts.  \n",
            "o Encourage students to strive for excellence and make them feel va lued.  \n",
            "o Create a competitive and engaging learning atmosphere.  \n",
            "Smartcookie Workflow  \n",
            "Core Features\n",
            "\n",
            "Tell me About the Company:  \n",
            "Smartcookie program  \n",
            "What is Smartcookie?  \n",
            "Smart Cookie is a teacher -student reward program designed to foster a fun, interactive, and \n",
            "rewarding environment for both teachers and students. The program allows teachers and to \n",
            "recognize and reward students for their achievements in various activities, such as sports, \n",
            "drawing, class tests and more. This initiative aims to make the educational process more \n",
            "engaging and motivating by providing real -time rewards that acknowledge stu dents' efforts \n",
            "and accomplishments.  It was founded by Avinash Kulkarni. Here's a detailed breakdown of \n",
            "how the program works and its components:  \n",
            "Overview  \n",
            " Purpose: To foster a fun, interactive, and rewarding environment in educational \n",
            "settings.  \n",
            " Goals:  \n",
            "o Recognize and reward students for achievements in activities such as sports, \n",
            "drawing, and academic tests.  \n",
            "o Appreciate and motivate both students and teachers.  \n",
            "o Encourage students to strive for excellence and feel valued.  \n",
            "o Create a competitive and engaging lea rning atmosphere.  \n",
            "Features  \n",
            "1. Recognition for Achievements:  \n",
            "o Students receive real -time rewards for their efforts and accomplishments.  \n",
            "o Teachers and students can recognize each other’s contributions.  \n",
            "o Encourages a positive and competitive environment.  \n",
            "2. Extension Possibilities:  \n",
            "o Can be adapted for player -coach rewards in sports settings.  \n",
            "o Suitable for employee -manager rewards in workplaces.  \n",
            "3. Addressing Lack of Appreciation:  \n",
            "o Many times, outstanding performances by students and the dedicated efforts of \n",
            "teachers go unacknowledged.  \n",
            "o Smart Cookie aims to ensure timely recognition to prevent discouragement.  \n",
            "There are 6 Entities in the System:  \n",
            "1. Cookie Admin  \n",
            "2. School Admin  \n",
            "3. Teacher  \n",
            "4. Student  \n",
            "5. Parent  \n",
            "6. Sponsor  \n",
            " \n",
            "I. Cookie Admin:\n",
            "Human: Who received the prestigious IIOTY award in 2023?\u001b[0m\n",
            "\n",
            "\u001b[1m> Finished chain.\u001b[0m\n",
            "\n",
            "\u001b[1m> Finished chain.\u001b[0m\n",
            "\n",
            "\u001b[1m> Finished chain.\u001b[0m\n",
            "\n",
            "Answer: I don't have information about the prestigious IIOTY award or its recipient in 2023.\n"
          ]
        }
      ]
    },
    {
      "cell_type": "code",
      "source": [],
      "metadata": {
        "id": "spEd0hmEfkIE"
      },
      "execution_count": null,
      "outputs": []
    }
  ]
}