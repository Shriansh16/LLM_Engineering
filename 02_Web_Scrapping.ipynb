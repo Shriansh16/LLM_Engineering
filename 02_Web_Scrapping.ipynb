{
  "nbformat": 4,
  "nbformat_minor": 0,
  "metadata": {
    "colab": {
      "provenance": [],
      "authorship_tag": "ABX9TyOadr9+vvozbsTOH4Z9bLAM",
      "include_colab_link": true
    },
    "kernelspec": {
      "name": "python3",
      "display_name": "Python 3"
    },
    "language_info": {
      "name": "python"
    }
  },
  "cells": [
    {
      "cell_type": "markdown",
      "metadata": {
        "id": "view-in-github",
        "colab_type": "text"
      },
      "source": [
        "<a href=\"https://colab.research.google.com/github/Shriansh16/LLM_Engineering/blob/main/02_Web_Scrapping.ipynb\" target=\"_parent\"><img src=\"https://colab.research.google.com/assets/colab-badge.svg\" alt=\"Open In Colab\"/></a>"
      ]
    },
    {
      "cell_type": "markdown",
      "source": [
        "A full business solution\n",
        "Create a product that builds a Brochure for a company to be used for prospective clients, investors and potential recruits.\n",
        "\n",
        "We will be provided a company name and their primary website.\n",
        "\n",
        "See the end of this notebook for examples of real-world business applications.\n",
        "\n",
        "And remember: I'm always available if you have problems or ideas! Please do reach out."
      ],
      "metadata": {
        "id": "x5kXY5VqRE8d"
      }
    },
    {
      "cell_type": "code",
      "source": [
        "import os\n",
        "import requests\n",
        "import json\n",
        "from typing import List\n",
        "#from dotenv import load_dotenv\n",
        "from bs4 import BeautifulSoup\n",
        "from IPython.display import Markdown, display, update_display\n",
        "from openai import OpenAI"
      ],
      "metadata": {
        "id": "b-rNgAhkRFrh"
      },
      "execution_count": 4,
      "outputs": []
    },
    {
      "cell_type": "code",
      "source": [
        "\n",
        "os.environ['OPENAI_API_KEY'] = os.getenv('OPENAI_API_KEY', \"\")\n",
        "MODEL = 'gpt-3.5-turbo'\n",
        "openai = OpenAI()"
      ],
      "metadata": {
        "id": "aFXl-KYXRWPD"
      },
      "execution_count": 10,
      "outputs": []
    },
    {
      "cell_type": "code",
      "source": [
        "# A class to represent a Webpage\n",
        "\n",
        "class Website:\n",
        "    url: str\n",
        "    title: str\n",
        "    body: str\n",
        "    links: List[str]\n",
        "\n",
        "    def __init__(self, url):\n",
        "        self.url = url\n",
        "        response = requests.get(url)\n",
        "        self.body = response.content\n",
        "        soup = BeautifulSoup(self.body, 'html.parser')\n",
        "        self.title = soup.title.string if soup.title else \"No title found\"\n",
        "        if soup.body:\n",
        "            for irrelevant in soup.body([\"script\", \"style\", \"img\", \"input\"]):\n",
        "                irrelevant.decompose()\n",
        "            self.text = soup.body.get_text(separator=\"\\n\", strip=True)\n",
        "        else:\n",
        "            self.text = \"\"\n",
        "        links = [link.get('href') for link in soup.find_all('a')]\n",
        "        self.links = [link for link in links if link]\n",
        "\n",
        "    def get_contents(self):\n",
        "        return f\"Webpage Title:\\n{self.title}\\nWebpage Contents:\\n{self.text}\\n\\n\""
      ],
      "metadata": {
        "id": "rB_bIfiZR3V3"
      },
      "execution_count": 8,
      "outputs": []
    },
    {
      "cell_type": "code",
      "source": [
        "ed = Website(\"https://edwarddonner.com\")\n",
        "print(ed.get_contents())"
      ],
      "metadata": {
        "colab": {
          "base_uri": "https://localhost:8080/"
        },
        "id": "-XakIyDeSEZ3",
        "outputId": "386a28de-62b0-4b7e-92a3-75f606d26243"
      },
      "execution_count": 9,
      "outputs": [
        {
          "output_type": "stream",
          "name": "stdout",
          "text": [
            "Webpage Title:\n",
            "Home - Edward Donner\n",
            "Webpage Contents:\n",
            "Home\n",
            "Outsmart\n",
            "An arena that pits LLMs against each other in a battle of diplomacy and deviousness\n",
            "About\n",
            "Posts\n",
            "Well, hi there.\n",
            "I’m Ed. I like writing code and experimenting with LLMs, and hopefully you’re here because you do too. I also enjoy DJing (but I’m badly out of practice), amateur electronic music production (\n",
            "very\n",
            "amateur) and losing myself in\n",
            "Hacker News\n",
            ", nodding my head sagely to things I only half understand.\n",
            "I’m the co-founder and CTO of\n",
            "Nebula.io\n",
            ". We’re applying AI to a field where it can make a massive, positive impact: helping people discover their potential and pursue their reason for being. Recruiters use our product today to source, understand, engage and manage talent. I’m previously the founder and CEO of AI startup untapt,\n",
            "acquired in 2021\n",
            ".\n",
            "We work with groundbreaking, proprietary LLMs verticalized for talent, we’ve\n",
            "patented\n",
            "our matching model, and our award-winning platform has happy customers and tons of press coverage.\n",
            "Connect\n",
            "with me for more!\n",
            "August 6, 2024\n",
            "Outsmart LLM Arena – a battle of diplomacy and deviousness\n",
            "June 26, 2024\n",
            "Choosing the Right LLM: Toolkit and Resources\n",
            "February 7, 2024\n",
            "Fine-tuning an LLM on your texts: a simulation of you\n",
            "January 31, 2024\n",
            "Fine-tuning an LLM on your texts: part 4 – QLoRA\n",
            "Navigation\n",
            "Home\n",
            "Outsmart\n",
            "An arena that pits LLMs against each other in a battle of diplomacy and deviousness\n",
            "About\n",
            "Posts\n",
            "Get in touch\n",
            "ed [at] edwarddonner [dot] com\n",
            "www.edwarddonner.com\n",
            "Follow me\n",
            "LinkedIn\n",
            "Twitter\n",
            "Facebook\n",
            "Subscribe to newsletter\n",
            "Type your email…\n",
            "Subscribe\n",
            "\n",
            "\n"
          ]
        }
      ]
    },
    {
      "cell_type": "markdown",
      "source": [
        "Use a call to gpt-4o-mini to read the links on a webpage, and respond in structured JSON.\n",
        "It should decide which links are relevant, and replace relative links such as \"/about\" with \"https://company.com/about\".\n",
        "We will use \"one shot prompting\" in which we provide an example of how it should respond in the prompt.\n",
        "\n",
        "Sidenote: there is a more advanced technique called \"Structured Outputs\" in which we require the model to respond according to a spec. We cover this technique in Week 8 during our autonomous Agentic AI project."
      ],
      "metadata": {
        "id": "Ie7gCvENSg35"
      }
    },
    {
      "cell_type": "code",
      "source": [
        "link_system_prompt = \"You are provided with a list of links found on a webpage. \\\n",
        "You are able to decide which of the links would be most relevant to include in a brochure about the company, \\\n",
        "such as links to an About page, or a Company page, or Careers/Jobs pages.\\n\"\n",
        "link_system_prompt += \"You should respond in JSON as in this example:\"\n",
        "link_system_prompt += \"\"\"\n",
        "{\n",
        "    \"links\": [\n",
        "        {\"type\": \"about page\", \"url\": \"https://full.url/goes/here/about\"},\n",
        "        {\"type\": \"careers page\": \"url\": \"https://another.full.url/careers\"}\n",
        "    ]\n",
        "}\n",
        "\"\"\""
      ],
      "metadata": {
        "id": "p15FkMgwShjr"
      },
      "execution_count": 11,
      "outputs": []
    },
    {
      "cell_type": "code",
      "source": [
        "def get_links_user_prompt(website):\n",
        "    user_prompt = f\"Here is the list of links on the website of {website.url} - \"\n",
        "    user_prompt += \"please decide which of these are relevant web links for a brochure about the company, respond with the full https URL in JSON format. \\\n",
        "Do not include Terms of Service, Privacy, email links.\\n\"\n",
        "    user_prompt += \"Links (some might be relative links):\\n\"\n",
        "    user_prompt += \"\\n\".join(website.links)\n",
        "    return user_prompt"
      ],
      "metadata": {
        "id": "5OeGWPcdSkxs"
      },
      "execution_count": 12,
      "outputs": []
    },
    {
      "cell_type": "code",
      "source": [
        "print(get_links_user_prompt(ed))"
      ],
      "metadata": {
        "colab": {
          "base_uri": "https://localhost:8080/"
        },
        "id": "VndMsKMNSsed",
        "outputId": "108ce686-88bf-4ecd-b7e5-1e8e368ccee4"
      },
      "execution_count": 13,
      "outputs": [
        {
          "output_type": "stream",
          "name": "stdout",
          "text": [
            "Here is the list of links on the website of https://edwarddonner.com - please decide which of these are relevant web links for a brochure about the company, respond with the full https URL in JSON format. Do not include Terms of Service, Privacy, email links.\n",
            "Links (some might be relative links):\n",
            "https://edwarddonner.com/\n",
            "https://edwarddonner.com/outsmart/\n",
            "https://edwarddonner.com/about-me-and-about-nebula/\n",
            "https://edwarddonner.com/posts/\n",
            "https://edwarddonner.com/\n",
            "https://news.ycombinator.com\n",
            "https://nebula.io/?utm_source=ed&utm_medium=referral\n",
            "https://www.prnewswire.com/news-releases/wynden-stark-group-acquires-nyc-venture-backed-tech-startup-untapt-301269512.html\n",
            "https://patents.google.com/patent/US20210049536A1/\n",
            "https://www.linkedin.com/in/eddonner/\n",
            "https://edwarddonner.com/2024/08/06/outsmart/\n",
            "https://edwarddonner.com/2024/08/06/outsmart/\n",
            "https://edwarddonner.com/2024/06/26/choosing-the-right-llm-resources/\n",
            "https://edwarddonner.com/2024/06/26/choosing-the-right-llm-resources/\n",
            "https://edwarddonner.com/2024/02/07/fine-tune-llm-on-texts-a-simulation-of-you/\n",
            "https://edwarddonner.com/2024/02/07/fine-tune-llm-on-texts-a-simulation-of-you/\n",
            "https://edwarddonner.com/2024/01/31/fine-tuning-an-llm-on-your-text-messages-using-qlora/\n",
            "https://edwarddonner.com/2024/01/31/fine-tuning-an-llm-on-your-text-messages-using-qlora/\n",
            "https://edwarddonner.com/\n",
            "https://edwarddonner.com/outsmart/\n",
            "https://edwarddonner.com/about-me-and-about-nebula/\n",
            "https://edwarddonner.com/posts/\n",
            "mailto:hello@mygroovydomain.com\n",
            "https://www.linkedin.com/in/eddonner/\n",
            "https://twitter.com/edwarddonner\n",
            "https://www.facebook.com/edward.donner.52\n"
          ]
        }
      ]
    },
    {
      "cell_type": "code",
      "source": [
        "def get_links(url):\n",
        "    website = Website(url)\n",
        "    completion = openai.chat.completions.create(\n",
        "        model=MODEL,\n",
        "        messages=[\n",
        "            {\"role\": \"system\", \"content\": link_system_prompt},\n",
        "            {\"role\": \"user\", \"content\": get_links_user_prompt(website)}\n",
        "      ],\n",
        "        response_format={\"type\": \"json_object\"}\n",
        "    )\n",
        "    result = completion.choices[0].message.content\n",
        "    return json.loads(result)"
      ],
      "metadata": {
        "id": "egx90B8vSv9d"
      },
      "execution_count": 14,
      "outputs": []
    },
    {
      "cell_type": "code",
      "source": [
        "get_links(\"https://anthropic.com\")"
      ],
      "metadata": {
        "colab": {
          "base_uri": "https://localhost:8080/"
        },
        "id": "z96RD1XUS96-",
        "outputId": "8578e383-5f05-4644-b3ff-4ec0a61bbb74"
      },
      "execution_count": 15,
      "outputs": [
        {
          "output_type": "execute_result",
          "data": {
            "text/plain": [
              "{'links': [{'type': 'company page', 'url': 'https://anthropic.com/company'},\n",
              "  {'type': 'careers page', 'url': 'https://anthropic.com/careers'},\n",
              "  {'type': 'research page', 'url': 'https://anthropic.com/research'}]}"
            ]
          },
          "metadata": {},
          "execution_count": 15
        }
      ]
    },
    {
      "cell_type": "markdown",
      "source": [
        "\n",
        "Second step: make the brochure!\n",
        "Assemble all the details into another prompt to GPT4-o"
      ],
      "metadata": {
        "id": "cT4vwy4HTHQx"
      }
    },
    {
      "cell_type": "code",
      "source": [
        "def get_all_details(url):\n",
        "    result = \"Landing page:\\n\"\n",
        "    result += Website(url).get_contents()\n",
        "    links = get_links(url)\n",
        "    print(\"Found links:\", links)\n",
        "    for link in links[\"links\"]:\n",
        "        result += f\"\\n\\n{link['type']}\\n\"\n",
        "        result += Website(link[\"url\"]).get_contents()\n",
        "    return result"
      ],
      "metadata": {
        "id": "YS4AoKJ3TIFC"
      },
      "execution_count": 16,
      "outputs": []
    },
    {
      "cell_type": "code",
      "source": [
        "print(get_all_details(\"https://anthropic.com\"))"
      ],
      "metadata": {
        "colab": {
          "base_uri": "https://localhost:8080/",
          "height": 280
        },
        "id": "S_XotxhzTMPQ",
        "outputId": "3441e22e-0379-4ca2-f3bf-d8a645d69586"
      },
      "execution_count": 17,
      "outputs": [
        {
          "output_type": "stream",
          "name": "stdout",
          "text": [
            "Found links: {'links': [{'url': 'https://anthropic.com/company'}, {'url': 'https://anthropic.com/careers'}]}\n"
          ]
        },
        {
          "output_type": "error",
          "ename": "KeyError",
          "evalue": "'type'",
          "traceback": [
            "\u001b[0;31m---------------------------------------------------------------------------\u001b[0m",
            "\u001b[0;31mKeyError\u001b[0m                                  Traceback (most recent call last)",
            "\u001b[0;32m<ipython-input-17-523f935ba781>\u001b[0m in \u001b[0;36m<cell line: 1>\u001b[0;34m()\u001b[0m\n\u001b[0;32m----> 1\u001b[0;31m \u001b[0mprint\u001b[0m\u001b[0;34m(\u001b[0m\u001b[0mget_all_details\u001b[0m\u001b[0;34m(\u001b[0m\u001b[0;34m\"https://anthropic.com\"\u001b[0m\u001b[0;34m)\u001b[0m\u001b[0;34m)\u001b[0m\u001b[0;34m\u001b[0m\u001b[0;34m\u001b[0m\u001b[0m\n\u001b[0m",
            "\u001b[0;32m<ipython-input-16-57b2505e48e2>\u001b[0m in \u001b[0;36mget_all_details\u001b[0;34m(url)\u001b[0m\n\u001b[1;32m      5\u001b[0m     \u001b[0mprint\u001b[0m\u001b[0;34m(\u001b[0m\u001b[0;34m\"Found links:\"\u001b[0m\u001b[0;34m,\u001b[0m \u001b[0mlinks\u001b[0m\u001b[0;34m)\u001b[0m\u001b[0;34m\u001b[0m\u001b[0;34m\u001b[0m\u001b[0m\n\u001b[1;32m      6\u001b[0m     \u001b[0;32mfor\u001b[0m \u001b[0mlink\u001b[0m \u001b[0;32min\u001b[0m \u001b[0mlinks\u001b[0m\u001b[0;34m[\u001b[0m\u001b[0;34m\"links\"\u001b[0m\u001b[0;34m]\u001b[0m\u001b[0;34m:\u001b[0m\u001b[0;34m\u001b[0m\u001b[0;34m\u001b[0m\u001b[0m\n\u001b[0;32m----> 7\u001b[0;31m         \u001b[0mresult\u001b[0m \u001b[0;34m+=\u001b[0m \u001b[0;34mf\"\\n\\n{link['type']}\\n\"\u001b[0m\u001b[0;34m\u001b[0m\u001b[0;34m\u001b[0m\u001b[0m\n\u001b[0m\u001b[1;32m      8\u001b[0m         \u001b[0mresult\u001b[0m \u001b[0;34m+=\u001b[0m \u001b[0mWebsite\u001b[0m\u001b[0;34m(\u001b[0m\u001b[0mlink\u001b[0m\u001b[0;34m[\u001b[0m\u001b[0;34m\"url\"\u001b[0m\u001b[0;34m]\u001b[0m\u001b[0;34m)\u001b[0m\u001b[0;34m.\u001b[0m\u001b[0mget_contents\u001b[0m\u001b[0;34m(\u001b[0m\u001b[0;34m)\u001b[0m\u001b[0;34m\u001b[0m\u001b[0;34m\u001b[0m\u001b[0m\n\u001b[1;32m      9\u001b[0m     \u001b[0;32mreturn\u001b[0m \u001b[0mresult\u001b[0m\u001b[0;34m\u001b[0m\u001b[0;34m\u001b[0m\u001b[0m\n",
            "\u001b[0;31mKeyError\u001b[0m: 'type'"
          ]
        }
      ]
    },
    {
      "cell_type": "code",
      "source": [
        "system_prompt = \"You are an assistant that analyzes the contents of several relevant pages from a company website \\\n",
        "and creates a short brochure about the company for prospective customers, investors and recruits. Respond in markdown.\\\n",
        "Include details of company culture, customers and careers/jobs if you have the information.\"\n",
        "\n",
        "# Or uncomment the lines below for a more humorous brochure - this demonstrates how easy it is to incorporate 'tone':\n",
        "\n",
        "# system_prompt = \"You are an assistant that analyzes the contents of several relevant pages from a company website \\\n",
        "# and creates a short humorous, entertaining, jokey brochure about the company for prospective customers, investors and recruits. Respond in markdown.\\\n",
        "# Include details of company culture, customers and careers/jobs if you have the information.\""
      ],
      "metadata": {
        "id": "8wh5dl0CVFYN"
      },
      "execution_count": 18,
      "outputs": []
    },
    {
      "cell_type": "code",
      "source": [
        "def get_brochure_user_prompt(company_name, url):\n",
        "    user_prompt = f\"You are looking at a company called: {company_name}\\n\"\n",
        "    user_prompt += f\"Here are the contents of its landing page and other relevant pages; use this information to build a short brochure of the company in markdown.\\n\"\n",
        "    user_prompt += get_all_details(url)\n",
        "    user_prompt = user_prompt[:20_000] # Truncate if more than 20,000 characters\n",
        "    return user_prompt"
      ],
      "metadata": {
        "id": "ixx6w0BLVKY9"
      },
      "execution_count": 19,
      "outputs": []
    },
    {
      "cell_type": "code",
      "source": [
        "def create_brochure(company_name, url):\n",
        "    response = openai.chat.completions.create(\n",
        "        model=MODEL,\n",
        "        messages=[\n",
        "            {\"role\": \"system\", \"content\": system_prompt},\n",
        "            {\"role\": \"user\", \"content\": get_brochure_user_prompt(company_name, url)}\n",
        "          ],\n",
        "    )\n",
        "    result = response.choices[0].message.content\n",
        "    display(Markdown(result))"
      ],
      "metadata": {
        "id": "WUGpOvdWVM6O"
      },
      "execution_count": 20,
      "outputs": []
    },
    {
      "cell_type": "code",
      "source": [
        "create_brochure(\"Anthropic\", \"https://anthropic.com\")"
      ],
      "metadata": {
        "colab": {
          "base_uri": "https://localhost:8080/",
          "height": 838
        },
        "id": "oXM6mCwGVPs9",
        "outputId": "af15bb36-2108-4dfc-dddd-1689d261bac7"
      },
      "execution_count": 21,
      "outputs": [
        {
          "output_type": "stream",
          "name": "stdout",
          "text": [
            "Found links: {'links': [{'type': 'company page', 'url': 'https://anthropic.com/company'}, {'type': 'careers page', 'url': 'https://anthropic.com/careers'}]}\n"
          ]
        },
        {
          "output_type": "display_data",
          "data": {
            "text/plain": [
              "<IPython.core.display.Markdown object>"
            ],
            "text/markdown": "# Anthropic Company Brochure\n\n## About Us\n\nAnthropic is an AI safety and research company based in San Francisco. We specialize in developing reliable, interpretable, and steerable AI systems. Our team consists of experts in machine learning, physics, policy, and product development. At Anthropic, we are dedicated to building AI systems that are not only beneficial but also safe for society.\n\n## Company Culture\n\n- **Mission-Driven:** We exist to ensure transformative AI helps people and society flourish. Our team is committed to building frontier systems and responsibly deploying them.\n  \n- **High Trust Environment:** We prioritize honesty, emotional maturity, and intellectual openness, fostering a collaborative and trusting work culture.\n  \n- **One Big Team:** Collaboration is central to our values. We work as a cohesive unit towards our shared mission, with leadership setting the strategy and valuing input from everyone.\n  \n- **Simplicity and Pragmatism:** We believe in doing what works. Our approach is pragmatic, emphasizing open communication and empiricism in all aspects of our work.\n\n## Our Work\n\n- **Research:** We conduct frontier AI research across various modalities, focusing on safety research areas such as interpretability and policy impacts analysis.\n  \n- **Policy:** We engage with policymakers and civil society to communicate our findings and promote safe and reliable AI practices.\n  \n- **Product:** We translate our research into practical tools like Claude, benefiting businesses, nonprofits, and society globally.\n\n## Careers\n\nJoin us in making AI safe at Anthropic. Our team spans various backgrounds, from physics and machine learning to public policy and business. We offer competitive compensation, generous benefits, and a supportive work environment.\n\n### What We Offer\n\n- **Health & Wellness:** Comprehensive health insurance, inclusive fertility benefits, generous parental leave, unlimited PTO, and more.\n  \n- **Compensation & Support:** Competitive salary, equity packages with optional donation matching, 401(k) plan, and additional benefits like wellness stipend and education allowance.\n  \n- **Interview Process:** Our thorough interview process ensures unbiased hiring decisions, tailored to the role and candidate, prioritizing work tests and soft skills assessment.\n\nIf you are passionate about AI safety and want to be part of a team dedicated to building a better future, explore open roles at Anthropic and join us on our mission.\n\n---\n\n**Contact Us:**\n\nWebsite: [Anthropic](https://www.anthropic.com)  \nEmail: contact@anthropic.com  \nStay Connected: [Twitter](https://twitter.com/AnthropicAI) | [LinkedIn](https://www.linkedin.com/company/anthropic-company) | [YouTube](https://www.youtube.com/anthropic)"
          },
          "metadata": {}
        }
      ]
    },
    {
      "cell_type": "markdown",
      "source": [
        "Finally - a minor improvement\n",
        "With a small adjustment, we can change this so that the results stream back from OpenAI, with the familiar typewriter animation"
      ],
      "metadata": {
        "id": "F7Yg4E0CXWX2"
      }
    },
    {
      "cell_type": "code",
      "source": [
        "def stream_brochure(company_name, url):\n",
        "    stream = openai.chat.completions.create(\n",
        "        model=MODEL,\n",
        "        messages=[\n",
        "            {\"role\": \"system\", \"content\": system_prompt},\n",
        "            {\"role\": \"user\", \"content\": get_brochure_user_prompt(company_name, url)}\n",
        "          ],\n",
        "        stream=True\n",
        "    )\n",
        "\n",
        "    response = \"\"\n",
        "    display_handle = display(Markdown(\"\"), display_id=True)\n",
        "    for chunk in stream:\n",
        "        response += chunk.choices[0].delta.content or ''\n",
        "        response = response.replace(\"```\",\"\").replace(\"markdown\", \"\")\n",
        "        update_display(Markdown(response), display_id=display_handle.display_id)"
      ],
      "metadata": {
        "id": "ZTtU4OOHVUHA"
      },
      "execution_count": 22,
      "outputs": []
    },
    {
      "cell_type": "code",
      "source": [
        "stream_brochure(\"Anthropic\", \"https://anthropic.com\")"
      ],
      "metadata": {
        "colab": {
          "base_uri": "https://localhost:8080/",
          "height": 634
        },
        "id": "DL4sfIBUXaNv",
        "outputId": "c533025c-0eac-48cc-f68b-c74141cda619"
      },
      "execution_count": 23,
      "outputs": [
        {
          "output_type": "stream",
          "name": "stdout",
          "text": [
            "Found links: {'links': [{'type': 'company page', 'url': 'https://anthropic.com/company'}, {'type': 'careers page', 'url': 'https://anthropic.com/careers'}]}\n"
          ]
        },
        {
          "output_type": "display_data",
          "data": {
            "text/plain": [
              "<IPython.core.display.Markdown object>"
            ],
            "text/markdown": "# Anthropic: Building Safe and Reliable AI Systems\n\n## About Us\n\nAt Anthropic, we are at the forefront of AI safety and research. Our team in San Francisco comprises interdisciplinary experts in machine learning, physics, policy, and product development. We are dedicated to creating AI systems that are not only beneficial but also safe and reliable for society.\n\n## Company Culture\n\n- **Mission-Driven**: We exist to ensure that transformative AI benefits humanity. We actively collaborate with various stakeholders to fulfill our mission.\n- **High Trust Environment**: We value open communication, honesty, and emotional maturity within our team.\n- **Collaborative**: We work together as one big team, each contributing to the shared goal of advancing AI safety.\n- **Practical and Empirical**: We prioritize pragmatic solutions and empirical approaches to our research and development.\n\n## Our Work\n\n- **Building Safer Systems**: We focus on developing AI systems that are not only advanced but also interpretable and steerable for users.\n- **Interdisciplinary Research**: From AI research to policy implications, we explore various safety facets to drive responsible AI development.\n- **Product Development**: Our research translates into tangible tools like Claude, benefiting businesses, nonprofits, and society as a whole.\n\n## Careers at Anthropic\n\n- **Diverse Team**: Our team members come from diverse backgrounds such as physics, machine learning, policy, and more.\n- **Benefits**: We offer competitive compensation, health, wellness benefits, and opportunities to contribute to charitable causes through equity.\n- **Hiring Process**: Our inclusive hiring process involves skill assessments tailored to the role, ensuring transparency and minimizing biases.\n\n## Join Us\n\nAre you passionate about building a safer future with AI? Explore our open roles at [Anthropic Careers](URL) and be part of a team dedicated to shaping the future of AI for the better.\n\n---\n**Claude | API | Team | Pricing | Research | Company | Customers | News | Careers**\n*Follow us on Twitter, LinkedIn, and YouTube for updates and insights.*\n**© 2024 Anthropic PBC**"
          },
          "metadata": {}
        }
      ]
    },
    {
      "cell_type": "code",
      "source": [
        "stream_brochure(\"HuggingFace\", \"https://huggingface.co\")"
      ],
      "metadata": {
        "colab": {
          "base_uri": "https://localhost:8080/",
          "height": 501
        },
        "id": "ffYexxv5XdSO",
        "outputId": "cf69b805-0f4b-44f6-bbd9-7d81846a8ea4"
      },
      "execution_count": 24,
      "outputs": [
        {
          "output_type": "stream",
          "name": "stdout",
          "text": [
            "Found links: {'links': [{'url': 'https://huggingface.co/about', 'type': 'About page'}, {'url': 'https://huggingface.co/careers', 'type': 'Careers/Jobs page'}]}\n"
          ]
        },
        {
          "output_type": "display_data",
          "data": {
            "text/plain": [
              "<IPython.core.display.Markdown object>"
            ],
            "text/markdown": "# Hugging Face: Building the Future of AI\n\nWelcome to **Hugging Face**, the AI community shaping the future of technology. At Hugging Face, we offer a collaborative platform for machine learning enthusiasts to work on cutting-edge models, datasets, and applications.\n\n### Company Culture\nJoin a diverse community of over 50,000 organizations, ranging from non-profits to enterprise giants like Amazon Web Services and Google. Our foundation is built on open-source projects like Transformers, Diffusers, and Tokenizers, providing state-of-the-art tools for ML development.\n\n### Our Customers\nWe cater to a wide range of customers utilizing AI technologies. Whether you are a data scientist, researcher, or business in need of AI solutions, Hugging Face has you covered. Our paid Compute and Enterprise solutions offer optimized inference endpoints, enterprise-grade security, and dedicated support.\n\n### Careers and Jobs\nPassionate about AI and ML? Consider joining our dynamic team at Hugging Face. As part of our growing organization, you will have the opportunity to work on groundbreaking projects, collaborate with industry experts, and contribute to the future of machine learning.\n\n#### Discover More about Hugging Face\n- **Website:** [Hugging Face](https://huggingface.co)\n- **Documentation:** Find detailed information on our solutions.\n- **Blog:** Stay updated on the latest developments in AI.\n- **Social:** Connect with us on GitHub, Twitter, LinkedIn, and Discord.\n\nJoin us at **Hugging Face** as we innovate, collaborate, and create the AI-driven future together."
          },
          "metadata": {}
        }
      ]
    },
    {
      "cell_type": "code",
      "source": [],
      "metadata": {
        "id": "mxcleAjiXiGe"
      },
      "execution_count": null,
      "outputs": []
    }
  ]
}